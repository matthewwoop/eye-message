{
 "cells": [
  {
   "cell_type": "markdown",
   "metadata": {
    "collapsed": false
   },
   "source": [
    "### Chat Table Queries"
   ]
  },
  {
   "cell_type": "markdown",
   "metadata": {},
   "source": [
    "SELECTs all chats and builds a dictionary of chat_id --> chat_info"
   ]
  },
  {
   "cell_type": "code",
   "execution_count": 7,
   "metadata": {
    "collapsed": true
   },
   "outputs": [],
   "source": [
    "chat_query = 'SELECT ROWID AS id, account_id, service_name AS service FROM chat'"
   ]
  },
  {
   "cell_type": "markdown",
   "metadata": {},
   "source": [
    "### Handle Table"
   ]
  },
  {
   "cell_type": "markdown",
   "metadata": {},
   "source": [
    "Selects all handles builds a dictionary mapping handle_ids to handle info (phone number)"
   ]
  },
  {
   "cell_type": "code",
   "execution_count": 8,
   "metadata": {
    "collapsed": true
   },
   "outputs": [],
   "source": [
    "handle_query = 'SELECT ROWID AS id, id AS full_number, country, service, uncanonicalized_id AS local_number, person_centric_id AS person_id FROM handle'"
   ]
  },
  {
   "cell_type": "markdown",
   "metadata": {},
   "source": [
    "### Messages Table"
   ]
  },
  {
   "cell_type": "markdown",
   "metadata": {},
   "source": [
    "Selects all messages and builds a list to be used for bucketing of messages to their corresponding chats / handles"
   ]
  },
  {
   "cell_type": "code",
   "execution_count": 9,
   "metadata": {
    "collapsed": false
   },
   "outputs": [],
   "source": [
    "msg_query = \"SELECT ROWID AS id, text, is_from_me, datetime((date/1000000000) + strftime('%s', '2001-01-01 00:00:00'), 'unixepoch', 'localtime') AS date FROM message ORDER BY date DESC\""
   ]
  },
  {
   "cell_type": "markdown",
   "metadata": {},
   "source": [
    "### Chat - Message Join Table"
   ]
  },
  {
   "cell_type": "code",
   "execution_count": 10,
   "metadata": {
    "collapsed": true
   },
   "outputs": [],
   "source": [
    "cmj_query = \"SELECT cmj.message_id AS message_id, cmj.chat_id AS chat_id, text, is_from_me, handle_id, datetime((date/1000000000) + strftime('%s', '2001-01-01 00:00:00'), 'unixepoch', 'localtime') AS date FROM chat_message_join AS cmj INNER JOIN message AS m ON cmj.message_id = m.ROWID ORDER BY date\""
   ]
  },
  {
   "cell_type": "markdown",
   "metadata": {},
   "source": [
    "### Chat - Handle Join Table"
   ]
  },
  {
   "cell_type": "code",
   "execution_count": 11,
   "metadata": {
    "collapsed": true
   },
   "outputs": [],
   "source": [
    "chj_query = \"SELECT chj.handle_id AS handle_id, chj.chat_id AS chat_id, id AS full_number, country, service, uncanonicalized_id AS local_number, person_centric_id AS person_id FROM chat_handle_join AS chj INNER JOIN handle AS h ON chj.handle_id = h.ROWID ORDER BY handle_id\""
   ]
  },
  {
   "cell_type": "markdown",
   "metadata": {},
   "source": [
    "### Chat - Handle - Message Query"
   ]
  },
  {
   "cell_type": "markdown",
   "metadata": {},
   "source": [
    "#### NOTE\n",
    "1. some messages have duplicates as iMessage/SMS in chat_message_join\n",
    "2. some messages (presumably attachments) have NULL text values"
   ]
  },
  {
   "cell_type": "code",
   "execution_count": 12,
   "metadata": {
    "collapsed": false
   },
   "outputs": [],
   "source": [
    "combined_query = \"SELECT m.ROWID AS message_id, cmj.chat_id AS chat_id, m.handle_id AS handle_id, h.id AS phone_number, text, is_from_me, style AS chat_style, m.service AS service, group_id, person_centric_id AS persion_id, datetime((date/1000000000) + strftime('%s', '2001-01-01 00:00:00'), 'unixepoch', 'localtime') AS date FROM message AS m INNER JOIN chat_message_join AS cmj ON cmj.message_id = m.ROWID INNER JOIN chat AS c ON cmj.chat_id = c.ROWID LEFT JOIN handle AS h ON m.handle_id = h.ROWID WHERE text IS NOT NULL GROUP BY message_id\""
   ]
  },
  {
   "cell_type": "markdown",
   "metadata": {},
   "source": [
    "### New MessagesDB Class"
   ]
  },
  {
   "cell_type": "code",
   "execution_count": 1,
   "metadata": {
    "collapsed": true
   },
   "outputs": [],
   "source": [
    "from MessagesDB import MessagesDB"
   ]
  },
  {
   "cell_type": "code",
   "execution_count": 2,
   "metadata": {
    "collapsed": false
   },
   "outputs": [
    {
     "name": "stdout",
     "output_type": "stream",
     "text": [
      "Connecting to Messages database file /Users/matthewwoop/Library/Messages/chat.db\n",
      "Successfully connected -- booyah\n"
     ]
    }
   ],
   "source": [
    "message_db = MessagesDB()"
   ]
  },
  {
   "cell_type": "code",
   "execution_count": 3,
   "metadata": {
    "collapsed": true
   },
   "outputs": [],
   "source": [
    "chat_query = chat_query = 'SELECT ROWID AS id, account_id, service_name AS service FROM chat'\n",
    "chat_result = message_db.query(chat_query)"
   ]
  },
  {
   "cell_type": "code",
   "execution_count": 4,
   "metadata": {
    "collapsed": false
   },
   "outputs": [],
   "source": [
    "chats = {c['id']: c for c in message_db.cursor.fetchall()}"
   ]
  }
 ],
 "metadata": {
  "kernelspec": {
   "display_name": "Python 3",
   "language": "python",
   "name": "python3"
  },
  "language_info": {
   "codemirror_mode": {
    "name": "ipython",
    "version": 3
   },
   "file_extension": ".py",
   "mimetype": "text/x-python",
   "name": "python",
   "nbconvert_exporter": "python",
   "pygments_lexer": "ipython3",
   "version": "3.4.5"
  }
 },
 "nbformat": 4,
 "nbformat_minor": 2
}
