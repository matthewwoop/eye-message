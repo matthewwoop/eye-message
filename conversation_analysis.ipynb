{
 "cells": [
  {
   "cell_type": "code",
   "execution_count": 59,
   "metadata": {
    "collapsed": false
   },
   "outputs": [],
   "source": [
    "import message_db\n",
    "import sqlite3\n",
    "import re"
   ]
  },
  {
   "cell_type": "markdown",
   "metadata": {},
   "source": [
    "### Connect Config"
   ]
  },
  {
   "cell_type": "code",
   "execution_count": 70,
   "metadata": {
    "collapsed": true
   },
   "outputs": [],
   "source": [
    "con = message_db.connect()"
   ]
  },
  {
   "cell_type": "code",
   "execution_count": 71,
   "metadata": {
    "collapsed": true
   },
   "outputs": [],
   "source": [
    "con.row_factory = sqlite3.Row"
   ]
  },
  {
   "cell_type": "code",
   "execution_count": 72,
   "metadata": {
    "collapsed": true
   },
   "outputs": [],
   "source": [
    "cur = con.cursor()"
   ]
  },
  {
   "cell_type": "markdown",
   "metadata": {},
   "source": [
    "### Query Table Counts"
   ]
  },
  {
   "cell_type": "code",
   "execution_count": 5,
   "metadata": {
    "collapsed": false
   },
   "outputs": [],
   "source": [
    "tables = ['chat', 'message', 'handle']\n",
    "table_counts = {t: {'count': message_db.count_rows(con, t)[0]} for t in tables}"
   ]
  },
  {
   "cell_type": "code",
   "execution_count": 6,
   "metadata": {
    "collapsed": false
   },
   "outputs": [
    {
     "data": {
      "text/plain": [
       "{'chat': {'count': 743},\n",
       " 'handle': {'count': 654},\n",
       " 'message': {'count': 248601}}"
      ]
     },
     "execution_count": 6,
     "metadata": {},
     "output_type": "execute_result"
    }
   ],
   "source": [
    "table_counts"
   ]
  },
  {
   "cell_type": "markdown",
   "metadata": {},
   "source": [
    "### Retrieve Messages"
   ]
  },
  {
   "cell_type": "code",
   "execution_count": 64,
   "metadata": {
    "collapsed": false
   },
   "outputs": [],
   "source": [
    "fd = open('messages.sql', 'r')\n",
    "sql_file = fd.read()\n",
    "fd.close()"
   ]
  },
  {
   "cell_type": "code",
   "execution_count": 65,
   "metadata": {
    "collapsed": false
   },
   "outputs": [],
   "source": [
    "sql_commands = [re.sub('\\n\\s{0}', ' ', cmd) for cmd in sql_file.split(';') if cmd is not '']"
   ]
  },
  {
   "cell_type": "code",
   "execution_count": 99,
   "metadata": {
    "collapsed": false
   },
   "outputs": [],
   "source": [
    "msg_query = (\n",
    "'SELECT cmj.chat_id AS chat_id, message_id, \\\n",
    "chj.handle_id AS handle_id, cmj.message_date AS date, \\\n",
    "m.text AS text, m.is_from_me '\n",
    "'FROM chat_message_join AS cmj INNER JOIN message AS m ON cmj.message_id = m.ROWID '\n",
    "'INNER JOIN chat_handle_join AS chj ON cmj.chat_id = chj.chat_id '\n",
    "'ORDER BY chj.handle_id DESC '\n",
    "'LIMIT 1;'\n",
    ")"
   ]
  },
  {
   "cell_type": "code",
   "execution_count": 100,
   "metadata": {
    "collapsed": false
   },
   "outputs": [
    {
     "data": {
      "text/plain": [
       "'SELECT cmj.chat_id AS chat_id, message_id, chj.handle_id AS handle_id, cmj.message_date AS date, m.text AS text, m.is_from_me FROM chat_message_join AS cmj INNER JOIN message AS m ON cmj.message_id = m.ROWID INNER JOIN chat_handle_join AS chj ON cmj.chat_id = chj.chat_id ORDER BY chj.handle_id DESC LIMIT 1;'"
      ]
     },
     "execution_count": 100,
     "metadata": {},
     "output_type": "execute_result"
    }
   ],
   "source": [
    "msg_query"
   ]
  },
  {
   "cell_type": "code",
   "execution_count": 101,
   "metadata": {
    "collapsed": false
   },
   "outputs": [
    {
     "name": "stdout",
     "output_type": "stream",
     "text": [
      "770\n",
      "273999\n",
      "688\n",
      "577237632800175616\n",
      "Hi! This is Maggie from Redesign Health. Patrick DePippo gave me your contact information as a professional reference. I’d like to speak to you tomorrow about your experience working with him. When is convenient for you?\n",
      "0\n"
     ]
    }
   ],
   "source": [
    "for row in cur.execute(msg_query).fetchone():\n",
    "    print(row)"
   ]
  },
  {
   "cell_type": "code",
   "execution_count": null,
   "metadata": {
    "collapsed": true
   },
   "outputs": [],
   "source": []
  }
 ],
 "metadata": {
  "kernelspec": {
   "display_name": "Python 3",
   "language": "python",
   "name": "python3"
  },
  "language_info": {
   "codemirror_mode": {
    "name": "ipython",
    "version": 3
   },
   "file_extension": ".py",
   "mimetype": "text/x-python",
   "name": "python",
   "nbconvert_exporter": "python",
   "pygments_lexer": "ipython3",
   "version": "3.4.5"
  }
 },
 "nbformat": 4,
 "nbformat_minor": 2
}
