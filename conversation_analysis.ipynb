{
 "cells": [
  {
   "cell_type": "markdown",
   "metadata": {},
   "source": [
    "### Testing Data Helpers"
   ]
  },
  {
   "cell_type": "code",
   "execution_count": 4,
   "metadata": {
    "collapsed": true
   },
   "outputs": [],
   "source": [
    "from MessagesDB import MessagesDB"
   ]
  },
  {
   "cell_type": "code",
   "execution_count": 1,
   "metadata": {
    "collapsed": false
   },
   "outputs": [],
   "source": [
    "from data_helpers import messages_query"
   ]
  },
  {
   "cell_type": "code",
   "execution_count": 2,
   "metadata": {
    "collapsed": false
   },
   "outputs": [
    {
     "data": {
      "text/plain": [
       "\"SELECT                  m.ROWID AS message_id, cmj.chat_id AS chat_id, m.handle_id AS handle_id,                  h.id AS phone_number, text, is_from_me,                  style AS chat_style, m.service AS service,group_id, person_centric_id AS persion_id,                  datetime((date/1000000000) + strftime('%s', '2001-01-01 00:00:00'), 'unixepoch', 'localtime') AS date                  FROM message AS m                  INNER JOIN chat_message_join AS cmj ON cmj.message_id = m.ROWID                  INNER JOIN chat AS c ON cmj.chat_id = c.ROWID                  LEFT JOIN handle AS h ON m.handle_id = h.ROWID                  WHERE text IS NOT NULL                  GROUP BY message_id\""
      ]
     },
     "execution_count": 2,
     "metadata": {},
     "output_type": "execute_result"
    }
   ],
   "source": [
    "messages_query"
   ]
  },
  {
   "cell_type": "code",
   "execution_count": 5,
   "metadata": {
    "collapsed": false,
    "scrolled": true
   },
   "outputs": [
    {
     "name": "stdout",
     "output_type": "stream",
     "text": [
      "Connecting to Messages database file /Users/matthewwoop/Library/Messages/chat.db\n",
      "Successfully connected -- booyah\n"
     ]
    }
   ],
   "source": [
    "messages_db = MessagesDB()"
   ]
  },
  {
   "cell_type": "code",
   "execution_count": 6,
   "metadata": {
    "collapsed": false,
    "scrolled": false
   },
   "outputs": [],
   "source": [
    "messages = messages_db.query(messages_query).fetchall()"
   ]
  },
  {
   "cell_type": "code",
   "execution_count": 14,
   "metadata": {
    "collapsed": false
   },
   "outputs": [
    {
     "data": {
      "text/plain": [
       "['phone_number',\n",
       " 'chat_id',\n",
       " 'group_id',\n",
       " 'message_id',\n",
       " 'persion_id',\n",
       " 'chat_style',\n",
       " 'text',\n",
       " 'is_from_me',\n",
       " 'service',\n",
       " 'date',\n",
       " 'handle_id']"
      ]
     },
     "execution_count": 14,
     "metadata": {},
     "output_type": "execute_result"
    }
   ],
   "source": [
    "list(messages[0].keys())"
   ]
  },
  {
   "cell_type": "code",
   "execution_count": 18,
   "metadata": {
    "collapsed": false
   },
   "outputs": [],
   "source": [
    "import os\n",
    "import csv"
   ]
  },
  {
   "cell_type": "code",
   "execution_count": 16,
   "metadata": {
    "collapsed": false
   },
   "outputs": [],
   "source": [
    "csv_filename = 'messages.csv'\n",
    "csv_fp = os.path.join(os.getcwd(), 'data', csv_filename)"
   ]
  },
  {
   "cell_type": "code",
   "execution_count": 15,
   "metadata": {
    "collapsed": true
   },
   "outputs": [],
   "source": [
    "def write_csv(fp, messages):\n",
    "\n",
    "    # backup messages to csv\n",
    "    with open(fp, 'w') as csvfile:\n",
    "\n",
    "        #messages = self.messages_db.query(messages_query).fetchall()\n",
    "\n",
    "        fieldnames = list(messages[0].keys())\n",
    "        writer = csv.DictWriter(csvfile, fieldnames=fieldnames)\n",
    "        writer.writeheader()\n",
    "\n",
    "        for row in messages:\n",
    "            writer.writerow(row)\n",
    "\n",
    "    return"
   ]
  },
  {
   "cell_type": "code",
   "execution_count": 19,
   "metadata": {
    "collapsed": false
   },
   "outputs": [],
   "source": [
    "write_csv(csv_fp, messages[:10])"
   ]
  }
 ],
 "metadata": {
  "kernelspec": {
   "display_name": "Python 3",
   "language": "python",
   "name": "python3"
  },
  "language_info": {
   "codemirror_mode": {
    "name": "ipython",
    "version": 3
   },
   "file_extension": ".py",
   "mimetype": "text/x-python",
   "name": "python",
   "nbconvert_exporter": "python",
   "pygments_lexer": "ipython3",
   "version": "3.4.5"
  }
 },
 "nbformat": 4,
 "nbformat_minor": 2
}
