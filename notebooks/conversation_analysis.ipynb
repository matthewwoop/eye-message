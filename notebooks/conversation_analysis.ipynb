{
 "cells": [
  {
   "cell_type": "markdown",
   "metadata": {},
   "source": [
    "### Importing Messages Into Pandas"
   ]
  },
  {
   "cell_type": "code",
   "execution_count": 2,
   "metadata": {},
   "outputs": [],
   "source": [
    "import sys\n",
    "sys.path.append('..')"
   ]
  },
  {
   "cell_type": "code",
   "execution_count": 3,
   "metadata": {},
   "outputs": [],
   "source": [
    "import pandas as pd"
   ]
  },
  {
   "cell_type": "code",
   "execution_count": 94,
   "metadata": {},
   "outputs": [],
   "source": [
    "df = pd.read_csv('../data/Message_Backup_2019-05-17.csv',\\\n",
    "                 usecols=['phone_number', 'text', 'is_from_me', 'date'],\\\n",
    "                 index_col='date',\\\n",
    "                 parse_dates=True,\\\n",
    "                )\n",
    "                 #nrows=100)"
   ]
  },
  {
   "cell_type": "code",
   "execution_count": 95,
   "metadata": {},
   "outputs": [
    {
     "name": "stdout",
     "output_type": "stream",
     "text": [
      "<class 'pandas.core.frame.DataFrame'>\n",
      "DatetimeIndex: 248900 entries, 2016-04-15 21:54:26 to 2019-05-17 11:30:51\n",
      "Data columns (total 3 columns):\n",
      "phone_number    246536 non-null object\n",
      "text            248900 non-null object\n",
      "is_from_me      248900 non-null int64\n",
      "dtypes: int64(1), object(2)\n",
      "memory usage: 7.6+ MB\n"
     ]
    }
   ],
   "source": [
    "df.info()"
   ]
  },
  {
   "cell_type": "markdown",
   "metadata": {},
   "source": [
    "###  Text Preprocessing"
   ]
  },
  {
   "cell_type": "code",
   "execution_count": 6,
   "metadata": {},
   "outputs": [],
   "source": [
    "from nltk.tokenize import word_tokenize, sent_tokenize\n",
    "from nltk.stem import WordNetLemmatizer\n",
    "from nltk.corpus import stopwords"
   ]
  },
  {
   "cell_type": "code",
   "execution_count": 37,
   "metadata": {},
   "outputs": [],
   "source": [
    "from collections import Counter\n",
    "from itertools import chain"
   ]
  },
  {
   "cell_type": "code",
   "execution_count": 82,
   "metadata": {},
   "outputs": [],
   "source": [
    "def tokenize_text(text):\n",
    "    \"\"\" lowercases text and filters out non-alphabetic words \"\"\"\n",
    "    return [w for w in word_tokenize(text.lower()) if w.isalpha()]"
   ]
  },
  {
   "cell_type": "code",
   "execution_count": 83,
   "metadata": {},
   "outputs": [],
   "source": [
    "def remove_stopwords(tokens, corpus='english'):\n",
    "    \"\"\" filters out tokens according to corpus of stopwords \"\"\"\n",
    "    return [t for t in tokens if t not in stopwords.words(corpus)]"
   ]
  },
  {
   "cell_type": "code",
   "execution_count": 84,
   "metadata": {},
   "outputs": [],
   "source": [
    "wordnet_lemmatizer = WordNetLemmatizer()"
   ]
  },
  {
   "cell_type": "code",
   "execution_count": 85,
   "metadata": {},
   "outputs": [],
   "source": [
    "def lemmatize(tokens):\n",
    "    return [wordnet_lemmatizer.lemmatize(t) for t in tokens]"
   ]
  },
  {
   "cell_type": "code",
   "execution_count": 96,
   "metadata": {},
   "outputs": [],
   "source": [
    "# tokenize the texts to sentences\n",
    "df['sentences'] = df['text'].apply(sent_tokenize)"
   ]
  },
  {
   "cell_type": "code",
   "execution_count": 97,
   "metadata": {},
   "outputs": [],
   "source": [
    "# tokenize the messages into words\n",
    "df['words']  = df['text'].apply(tokenize_text)"
   ]
  },
  {
   "cell_type": "code",
   "execution_count": 98,
   "metadata": {},
   "outputs": [],
   "source": [
    "# remove stop words from tokens\n",
    "df['nostop_words'] = df['words'].apply(remove_stopwords)"
   ]
  },
  {
   "cell_type": "code",
   "execution_count": 99,
   "metadata": {},
   "outputs": [],
   "source": [
    "# lemmatize tokens w/ stopwords removed\n",
    "df['lemmatized'] = df['nostop_words'].apply(lemmatize)"
   ]
  },
  {
   "cell_type": "markdown",
   "metadata": {},
   "source": [
    "### Yearly Word Frequency Counts"
   ]
  },
  {
   "cell_type": "code",
   "execution_count": 131,
   "metadata": {},
   "outputs": [],
   "source": [
    "# brief digression into flattening lists\n",
    "\n",
    "def flatten1(lol):\n",
    "    return [item for sublist in lol for item in sublist]\n",
    "\n",
    "def flatten2(lol):\n",
    "    for sublist in lol:\n",
    "        for item in sublist:\n",
    "            yield item\n",
    "\n",
    "def flatten3(lol):\n",
    "    return list(chain.from_iterable(lol))"
   ]
  },
  {
   "cell_type": "code",
   "execution_count": 39,
   "metadata": {},
   "outputs": [],
   "source": [
    "def flatten(lol):\n",
    "    \"\"\" converts a list of lists (lol) into one list \"\"\"\n",
    "    return list(chain.from_iterable(lol))"
   ]
  },
  {
   "cell_type": "code",
   "execution_count": 132,
   "metadata": {},
   "outputs": [],
   "source": [
    "# for each year, we have a collection of messages\n",
    "# each message has a list of processed tokens\n",
    "# we want one list that contains all of the tokens for each year\n",
    "yearly = df.groupby(df.index.year)"
   ]
  },
  {
   "cell_type": "code",
   "execution_count": 102,
   "metadata": {},
   "outputs": [],
   "source": [
    "# reduce each year to corresponding list of tokens\n",
    "full_tokens = yearly['lemmatized'].aggregate(flatten)"
   ]
  },
  {
   "cell_type": "code",
   "execution_count": 133,
   "metadata": {},
   "outputs": [],
   "source": [
    "# create counter for each year\n",
    "counters = {year: Counter(full_tokens[year]) for year in full_tokens.index}"
   ]
  },
  {
   "cell_type": "code",
   "execution_count": 134,
   "metadata": {},
   "outputs": [
    {
     "name": "stdout",
     "output_type": "stream",
     "text": [
      "2016 Top 5 Words:\n",
      "\t[('like', 3085), ('get', 2184), ('good', 2056), ('yeah', 1928), ('know', 1572)]\n",
      "2017 Top 5 Words:\n",
      "\t[('like', 4093), ('lol', 3731), ('get', 2770), ('yeah', 2159), ('good', 1925)]\n",
      "2018 Top 5 Words:\n",
      "\t[('like', 1737), ('get', 1336), ('u', 1303), ('yeah', 1215), ('good', 1151)]\n",
      "2019 Top 5 Words:\n",
      "\t[('like', 249), ('love', 223), ('good', 203), ('loved', 185), ('know', 176)]\n"
     ]
    }
   ],
   "source": [
    "for year, counter in counters.items():\n",
    "    print(\"{} Top 5 Words:\\n\\t{}\".format(year, counter.most_common(5)))"
   ]
  },
  {
   "cell_type": "code",
   "execution_count": null,
   "metadata": {},
   "outputs": [],
   "source": []
  }
 ],
 "metadata": {
  "kernelspec": {
   "display_name": "Python 3",
   "language": "python",
   "name": "python3"
  },
  "language_info": {
   "codemirror_mode": {
    "name": "ipython",
    "version": 3
   },
   "file_extension": ".py",
   "mimetype": "text/x-python",
   "name": "python",
   "nbconvert_exporter": "python",
   "pygments_lexer": "ipython3",
   "version": "3.7.3"
  }
 },
 "nbformat": 4,
 "nbformat_minor": 2
}
