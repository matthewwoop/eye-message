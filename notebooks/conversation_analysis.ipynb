{
 "cells": [
  {
   "cell_type": "markdown",
   "metadata": {},
   "source": [
    "### Testing Data Flow"
   ]
  },
  {
   "cell_type": "code",
   "execution_count": 1,
   "metadata": {},
   "outputs": [],
   "source": [
    "import csv\n",
    "import sys\n",
    "sys.path.append('..')"
   ]
  },
  {
   "cell_type": "code",
   "execution_count": 2,
   "metadata": {},
   "outputs": [],
   "source": [
    "from eyemessage.DbClient import DbClient\n",
    "from eyemessage import utils\n",
    "from eyemessage import data"
   ]
  },
  {
   "cell_type": "code",
   "execution_count": 5,
   "metadata": {},
   "outputs": [
    {
     "name": "stderr",
     "output_type": "stream",
     "text": [
      "INFO:eyemessage:Connected to db\n"
     ]
    }
   ],
   "source": [
    "fp = utils.db_filepath()\n",
    "client = DbClient(fp, utils.dict_row_factory)"
   ]
  },
  {
   "cell_type": "code",
   "execution_count": 6,
   "metadata": {},
   "outputs": [
    {
     "name": "stderr",
     "output_type": "stream",
     "text": [
      "INFO:eyemessage:Executing query\n"
     ]
    },
    {
     "name": "stdout",
     "output_type": "stream",
     "text": [
      "{'message_id': 2, 'chat_id': 2, 'handle_id': 2, 'phone_number': '+15163184263', 'text': 'not even wifi', 'is_from_me': 0, 'chat_style': 45, 'service': 'iMessage', 'group_id': '     ', 'person_id': '34f32f9c-e814-4769-95d8-28724dd231c5', 'date': '2016-04-15 21:54:26'}\n",
      "{'message_id': 3, 'chat_id': 2, 'handle_id': 2, 'phone_number': '+15163184263', 'text': 'got it', 'is_from_me': 0, 'chat_style': 45, 'service': 'iMessage', 'group_id': '     ', 'person_id': '34f32f9c-e814-4769-95d8-28724dd231c5', 'date': '2016-04-15 21:54:41'}\n",
      "{'message_id': 4, 'chat_id': 2, 'handle_id': 2, 'phone_number': '+15163184263', 'text': 'had to do a npm start --reset-cache', 'is_from_me': 0, 'chat_style': 45, 'service': 'iMessage', 'group_id': '     ', 'person_id': '34f32f9c-e814-4769-95d8-28724dd231c5', 'date': '2016-04-15 21:54:49'}\n",
      "{'message_id': 6, 'chat_id': 2, 'handle_id': 2, 'phone_number': '+15163184263', 'text': 'interesting', 'is_from_me': 1, 'chat_style': 45, 'service': 'iMessage', 'group_id': '     ', 'person_id': '34f32f9c-e814-4769-95d8-28724dd231c5', 'date': '2016-04-15 22:20:53'}\n",
      "{'message_id': 7, 'chat_id': 2, 'handle_id': 2, 'phone_number': '+15163184263', 'text': 'wonder why that would cause a problem now', 'is_from_me': 1, 'chat_style': 45, 'service': 'iMessage', 'group_id': '     ', 'person_id': '34f32f9c-e814-4769-95d8-28724dd231c5', 'date': '2016-04-15 22:21:03'}\n"
     ]
    }
   ],
   "source": [
    "with open('./data/test_msg3.csv', 'w+') as outfile:\n",
    "    \n",
    "    fieldnames = ['message_id', 'chat_id', 'handle_id', 'phone_number', 'text', 'is_from_me', 'chat_style', 'service', 'group_id', 'person_id', 'date']\n",
    "\n",
    "    writer = csv.DictWriter(outfile, fieldnames=fieldnames)\n",
    "    writer.writeheader()\n",
    "    \n",
    "    for msg in client.query(data.DEFAULT_QUERIES['test_messages']):\n",
    "        writer.writerow(msg)\n",
    "        \n",
    "    client.close_connection()"
   ]
  },
  {
   "cell_type": "code",
   "execution_count": null,
   "metadata": {},
   "outputs": [],
   "source": [
    "client.close_connection()"
   ]
  }
 ],
 "metadata": {
  "kernelspec": {
   "display_name": "Python 3",
   "language": "python",
   "name": "python3"
  },
  "language_info": {
   "codemirror_mode": {
    "name": "ipython",
    "version": 3
   },
   "file_extension": ".py",
   "mimetype": "text/x-python",
   "name": "python",
   "nbconvert_exporter": "python",
   "pygments_lexer": "ipython3",
   "version": "3.7.3"
  }
 },
 "nbformat": 4,
 "nbformat_minor": 2
}
